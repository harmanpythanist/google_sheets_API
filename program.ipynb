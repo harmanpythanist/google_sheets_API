{
 "cells": [
  {
   "cell_type": "markdown",
   "id": "d2244043-d22e-4f19-9a81-a2f2ac9b7d2c",
   "metadata": {},
   "source": [
    "### set up"
   ]
  },
  {
   "cell_type": "code",
   "execution_count": 1,
   "id": "d849da0a-0018-4798-9495-7142490b7227",
   "metadata": {},
   "outputs": [],
   "source": [
    "import gspread\n",
    "from google.oauth2.service_account import Credentials"
   ]
  },
  {
   "cell_type": "code",
   "execution_count": 2,
   "id": "a695a3e1-97a9-4b99-9fc3-44dd1663981d",
   "metadata": {},
   "outputs": [],
   "source": [
    "link = ['https://www.googleapis.com/auth/spreadsheets']"
   ]
  },
  {
   "cell_type": "code",
   "execution_count": 3,
   "id": "d8853600-45b7-4e52-a15d-0af3230e8f66",
   "metadata": {},
   "outputs": [],
   "source": [
    "creds = Credentials.from_service_account_file('service_account.json', scopes = link)"
   ]
  },
  {
   "cell_type": "code",
   "execution_count": 4,
   "id": "7089459c-96ec-4ba1-a968-a70e17dfbb6e",
   "metadata": {},
   "outputs": [],
   "source": [
    "client = gspread.authorize(creds)"
   ]
  },
  {
   "cell_type": "code",
   "execution_count": 5,
   "id": "6ddfb0f4-0a15-4451-9c7f-e1affdf7488f",
   "metadata": {},
   "outputs": [],
   "source": [
    "sheet_id = '1fhD2raiBbLjCKuoqCTbTQBnRknmLTJYbutZnNcMf_mE'"
   ]
  },
  {
   "cell_type": "code",
   "execution_count": 6,
   "id": "10cfee9b-01df-456a-8a5e-cac6bf506358",
   "metadata": {},
   "outputs": [],
   "source": [
    "sheet = client.open_by_key(sheet_id)"
   ]
  },
  {
   "cell_type": "markdown",
   "id": "9c1321e5-9a95-4a31-8be6-05b88beb0e16",
   "metadata": {},
   "source": [
    "### view first row of your sheet"
   ]
  },
  {
   "cell_type": "code",
   "execution_count": 8,
   "id": "8d346ef1-29f1-4bb6-998e-b8d1dc6a09f9",
   "metadata": {},
   "outputs": [
    {
     "data": {
      "text/plain": [
       "['Harman']"
      ]
     },
     "execution_count": 8,
     "metadata": {},
     "output_type": "execute_result"
    }
   ],
   "source": [
    "sheet.sheet1.row_values(1)"
   ]
  },
  {
   "cell_type": "markdown",
   "id": "d4ae8b49-14f9-4a8d-9ccf-3675ef982ed6",
   "metadata": {},
   "source": [
    "### changing the sheet title"
   ]
  },
  {
   "cell_type": "code",
   "execution_count": 9,
   "id": "7f231644-8034-41eb-b574-48920a7ee46b",
   "metadata": {},
   "outputs": [
    {
     "data": {
      "text/plain": [
       "{'spreadsheetId': '1fhD2raiBbLjCKuoqCTbTQBnRknmLTJYbutZnNcMf_mE',\n",
       " 'replies': [{}]}"
      ]
     },
     "execution_count": 9,
     "metadata": {},
     "output_type": "execute_result"
    }
   ],
   "source": [
    "sheet.update_title('FirstFile') "
   ]
  },
  {
   "cell_type": "markdown",
   "id": "c622ad03-0a38-459f-afad-a40fa8834ba2",
   "metadata": {},
   "source": [
    "### updating cells via cell reference"
   ]
  },
  {
   "cell_type": "code",
   "execution_count": 10,
   "id": "22d00079-ff48-4df1-959d-00048c05f2db",
   "metadata": {},
   "outputs": [
    {
     "data": {
      "text/plain": [
       "{'spreadsheetId': '1fhD2raiBbLjCKuoqCTbTQBnRknmLTJYbutZnNcMf_mE',\n",
       " 'updatedRange': 'Sheet1!B2',\n",
       " 'updatedRows': 1,\n",
       " 'updatedColumns': 1,\n",
       " 'updatedCells': 1}"
      ]
     },
     "execution_count": 10,
     "metadata": {},
     "output_type": "execute_result"
    }
   ],
   "source": [
    "sheet.sheet1.update_acell('B2','Bilal')"
   ]
  },
  {
   "cell_type": "markdown",
   "id": "9e30e5e8-a6af-41f5-b6f8-86f7db8fcad1",
   "metadata": {},
   "source": [
    "### updating cells via row and column number"
   ]
  },
  {
   "cell_type": "code",
   "execution_count": 11,
   "id": "144508de-222b-441a-bf72-0de25770b02f",
   "metadata": {},
   "outputs": [
    {
     "data": {
      "text/plain": [
       "{'spreadsheetId': '1fhD2raiBbLjCKuoqCTbTQBnRknmLTJYbutZnNcMf_mE',\n",
       " 'updatedRange': 'Sheet1!E5',\n",
       " 'updatedRows': 1,\n",
       " 'updatedColumns': 1,\n",
       " 'updatedCells': 1}"
      ]
     },
     "execution_count": 11,
     "metadata": {},
     "output_type": "execute_result"
    }
   ],
   "source": [
    "sheet.sheet1.update_cell(5,5,'Ali')"
   ]
  },
  {
   "cell_type": "markdown",
   "id": "e7969eb5-b552-4a57-b170-2500be32d274",
   "metadata": {},
   "source": [
    "### Find a particular value"
   ]
  },
  {
   "cell_type": "code",
   "execution_count": 12,
   "id": "6198fdc6-3b28-4e7a-8b0b-f5b6480d3750",
   "metadata": {},
   "outputs": [
    {
     "data": {
      "text/plain": [
       "<Cell R1C1 'Harman'>"
      ]
     },
     "execution_count": 12,
     "metadata": {},
     "output_type": "execute_result"
    }
   ],
   "source": [
    "sheet.sheet1.find('Harman')"
   ]
  },
  {
   "cell_type": "markdown",
   "id": "3e46ebed-7dbd-4f2b-aebe-5f42c47fff1e",
   "metadata": {},
   "source": [
    "### Adding worksheet"
   ]
  },
  {
   "cell_type": "code",
   "execution_count": 13,
   "id": "80e5e90e-ee65-4793-bd8a-6770837b9738",
   "metadata": {},
   "outputs": [
    {
     "data": {
      "text/plain": [
       "<Worksheet 'shet2' id:143452638>"
      ]
     },
     "execution_count": 13,
     "metadata": {},
     "output_type": "execute_result"
    }
   ],
   "source": [
    "sheet.add_worksheet(title = 'shet2', rows = 100, cols = 100)"
   ]
  },
  {
   "cell_type": "markdown",
   "id": "0ca4a82b-12a8-4db9-9b33-73d0a06f0501",
   "metadata": {},
   "source": [
    "### Clear sheet"
   ]
  },
  {
   "cell_type": "code",
   "execution_count": 15,
   "id": "b6f2eb53-cf9b-4ab7-9d79-8ac12822d019",
   "metadata": {},
   "outputs": [
    {
     "data": {
      "text/plain": [
       "{'spreadsheetId': '1fhD2raiBbLjCKuoqCTbTQBnRknmLTJYbutZnNcMf_mE',\n",
       " 'clearedRange': 'Sheet1!A1:Z1000'}"
      ]
     },
     "execution_count": 15,
     "metadata": {},
     "output_type": "execute_result"
    }
   ],
   "source": [
    "sheet.sheet1.clear()"
   ]
  },
  {
   "cell_type": "markdown",
   "id": "e1c99b06-e3e2-42d4-a8ae-cc447a3dc6a3",
   "metadata": {},
   "source": [
    "### Access work sheets via names"
   ]
  },
  {
   "cell_type": "code",
   "execution_count": 16,
   "id": "ce13d34b-d452-4ee6-860c-340d402778a2",
   "metadata": {},
   "outputs": [],
   "source": [
    "my_sheet = sheet.worksheet('shet2')"
   ]
  },
  {
   "cell_type": "code",
   "execution_count": null,
   "id": "c4af2b53-e21f-4ef4-b2b1-3897c0d93c52",
   "metadata": {},
   "outputs": [],
   "source": []
  }
 ],
 "metadata": {
  "kernelspec": {
   "display_name": "Python 3 (ipykernel)",
   "language": "python",
   "name": "python3"
  },
  "language_info": {
   "codemirror_mode": {
    "name": "ipython",
    "version": 3
   },
   "file_extension": ".py",
   "mimetype": "text/x-python",
   "name": "python",
   "nbconvert_exporter": "python",
   "pygments_lexer": "ipython3",
   "version": "3.12.7"
  }
 },
 "nbformat": 4,
 "nbformat_minor": 5
}
